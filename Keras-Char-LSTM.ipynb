{
 "cells": [
  {
   "cell_type": "code",
   "execution_count": 1,
   "metadata": {},
   "outputs": [
    {
     "name": "stderr",
     "output_type": "stream",
     "text": [
      "Using TensorFlow backend.\n"
     ]
    }
   ],
   "source": [
    "from keras.models import Model, Input\n",
    "import keras.backend as K\n",
    "from keras.optimizers import Nadam, SGD, Adam\n",
    "from keras.models import Sequential\n",
    "from keras.layers import Dense\n",
    "from keras.layers import LSTM\n",
    "import os\n",
    "import sys\n",
    "import numpy as np\n",
    "from keras.utils import to_categorical\n",
    "import tensorflow as tf"
   ]
  },
  {
   "cell_type": "code",
   "execution_count": 2,
   "metadata": {},
   "outputs": [],
   "source": [
    "os.environ[\"CUDA_DEVICE_ORDER\"]=\"PCI_BUS_ID\";\n",
    "\n",
    "# The GPU id to use, usually either \"0\" or \"1\";\n",
    "os.environ[\"CUDA_VISIBLE_DEVICES\"]=\"0\";"
   ]
  },
  {
   "cell_type": "code",
   "execution_count": 3,
   "metadata": {},
   "outputs": [],
   "source": [
    "import glob\n",
    "import random\n",
    "import string\n",
    "import unicodedata\n",
    "import matplotlib.pyplot as plt\n",
    "import matplotlib.ticker as ticker\n",
    "import time\n",
    "import math"
   ]
  },
  {
   "cell_type": "code",
   "execution_count": 4,
   "metadata": {},
   "outputs": [],
   "source": [
    "random.seed(30)"
   ]
  },
  {
   "cell_type": "code",
   "execution_count": 5,
   "metadata": {},
   "outputs": [],
   "source": [
    "def findFiles(path): \n",
    "    return glob.glob(path)\n",
    "\n",
    "# Turn a Unicode string to plain ASCII, thanks to https://stackoverflow.com/a/518232/2809427\n",
    "def unicodeToAscii(s):\n",
    "    return ''.join(\n",
    "        c for c in unicodedata.normalize('NFD', s)\n",
    "        if unicodedata.category(c) != 'Mn'\n",
    "        and c in all_chars\n",
    "    )\n",
    "\n",
    "# Read a file and split into lines\n",
    "def readLines(filename):\n",
    "    lines = open(filename, encoding='utf-8').read().strip().split('\\n')\n",
    "    return [unicodeToAscii(line) for line in lines]"
   ]
  },
  {
   "cell_type": "code",
   "execution_count": 6,
   "metadata": {},
   "outputs": [
    {
     "name": "stdout",
     "output_type": "stream",
     "text": [
      "all training files= ['data/names/Vietnamese.txt', 'data/names/Czech.txt', 'data/names/Spanish.txt', 'data/names/Arabic.txt', 'data/names/Irish.txt', 'data/names/Scottish.txt', 'data/names/Dutch.txt', 'data/names/French.txt', 'data/names/Italian.txt', 'data/names/Greek.txt', 'data/names/Korean.txt', 'data/names/Japanese.txt', 'data/names/Polish.txt', 'data/names/Chinese.txt', 'data/names/German.txt', 'data/names/Russian.txt', 'data/names/Portuguese.txt', 'data/names/English.txt']\n",
      "Slusarski\n",
      "Total  20074 names across 18 categories\n"
     ]
    }
   ],
   "source": [
    "print('all training files=',findFiles('data/names/*.txt'))\n",
    "\n",
    "pad_char = '#'\n",
    "all_chars = string.ascii_letters + \" .,;'\" + pad_char\n",
    "n_chars = len(all_chars)\n",
    "\n",
    "print(unicodeToAscii('Ślusàrski'))\n",
    "\n",
    "# Build the category_names dictionary, a list of names per language\n",
    "category_names_dict = {}\n",
    "all_categories = []\n",
    "\n",
    "name_counts = []\n",
    "for filename in findFiles('data/names/*.txt'):\n",
    "    category = os.path.splitext(os.path.basename(filename))[0]\n",
    "    all_categories.append(category)\n",
    "    names = readLines(filename)\n",
    "    category_names_dict[category] = names\n",
    "    name_counts.append(len(names))\n",
    "\n",
    "num_samples = np.sum(name_counts)\n",
    "n_categories = len(all_categories)\n",
    "\n",
    "print('Total ',num_samples,'names across',n_categories,'categories')"
   ]
  },
  {
   "cell_type": "code",
   "execution_count": 7,
   "metadata": {},
   "outputs": [
    {
     "name": "stdout",
     "output_type": "stream",
     "text": [
      "No of characters, this is the encoding dimension of each character in a name :  58\n"
     ]
    }
   ],
   "source": [
    "print('No of characters, this is the encoding dimension of each character in a name : ',n_chars)"
   ]
  },
  {
   "cell_type": "code",
   "execution_count": 8,
   "metadata": {},
   "outputs": [
    {
     "name": "stdout",
     "output_type": "stream",
     "text": [
      "all_categories= ['Vietnamese', 'Czech', 'Spanish', 'Arabic', 'Irish', 'Scottish', 'Dutch', 'French', 'Italian', 'Greek', 'Korean', 'Japanese', 'Polish', 'Chinese', 'German', 'Russian', 'Portuguese', 'English'] \n",
      "\n",
      "category \"English\" has  3668 names\n",
      "['Abbas', 'Abbey', 'Abbott', 'Abdi', 'Abel']\n"
     ]
    }
   ],
   "source": [
    "print('all_categories=',all_categories,'\\n')\n",
    "print('category \"English\" has ',len(category_names_dict['English']),'names')\n",
    "print(category_names_dict['English'][:5])"
   ]
  },
  {
   "cell_type": "code",
   "execution_count": 9,
   "metadata": {},
   "outputs": [
    {
     "data": {
      "image/png": "[encoded data removed]",
      "text/plain": [
       "<Figure size 432x288 with 1 Axes>"
      ]
     },
     "metadata": {
      "needs_background": "light"
     },
     "output_type": "display_data"
    },
    {
     "name": "stdout",
     "output_type": "stream",
     "text": [
      "Vietnamese 73\n",
      "Czech 519\n",
      "Spanish 298\n",
      "Arabic 2000\n",
      "Irish 232\n",
      "Scottish 100\n",
      "Dutch 297\n",
      "French 277\n",
      "Italian 709\n",
      "Greek 203\n",
      "Korean 94\n",
      "Japanese 991\n",
      "Polish 139\n",
      "Chinese 268\n",
      "German 724\n",
      "Russian 9408\n",
      "Portuguese 74\n",
      "English 3668\n"
     ]
    }
   ],
   "source": [
    "labels = list(category_names_dict.keys())\n",
    "values = [len(names) for names in category_names_dict.values()]\n",
    "\n",
    "plt.xticks(rotation=90)\n",
    "centers = range(len(values))\n",
    "plt.bar(centers, values, align='center', tick_label=labels)\n",
    "plt.show()\n",
    "\n",
    "for i,ll in enumerate(labels):\n",
    "    print(ll,values[i])"
   ]
  },
  {
   "cell_type": "code",
   "execution_count": 10,
   "metadata": {},
   "outputs": [
    {
     "name": "stdout",
     "output_type": "stream",
     "text": [
      "[Vietnamese]\n",
      "Vietnamese\n",
      "True\n",
      "Adding  Vietnamese 73\n",
      "73\n",
      "---------------\n",
      "[Czech]\n",
      "Czech\n",
      "True\n",
      "Adding  Czech 519\n",
      "592\n",
      "---------------\n",
      "[Spanish]\n",
      "Spanish\n",
      "True\n",
      "Adding  Spanish 298\n",
      "890\n",
      "---------------\n",
      "[Arabic]\n",
      "Arabic\n",
      "True\n",
      "Adding  Arabic 2000\n",
      "2890\n",
      "---------------\n",
      "[Irish]\n",
      "Irish\n",
      "True\n",
      "Adding  Irish 232\n",
      "3122\n",
      "---------------\n",
      "[Scottish]\n",
      "Scottish\n",
      "True\n",
      "Adding  Scottish 100\n",
      "3222\n",
      "---------------\n",
      "[Dutch]\n",
      "Dutch\n",
      "True\n",
      "Adding  Dutch 297\n",
      "3519\n",
      "---------------\n",
      "[French]\n",
      "French\n",
      "True\n",
      "Adding  French 277\n",
      "3796\n",
      "---------------\n",
      "[Italian]\n",
      "Italian\n",
      "True\n",
      "Adding  Italian 709\n",
      "4505\n",
      "---------------\n",
      "[Greek]\n",
      "Greek\n",
      "True\n",
      "Adding  Greek 203\n",
      "4708\n",
      "---------------\n",
      "[Korean]\n",
      "Korean\n",
      "True\n",
      "Adding  Korean 94\n",
      "4802\n",
      "---------------\n",
      "[Japanese]\n",
      "Japanese\n",
      "True\n",
      "Adding  Japanese 991\n",
      "5793\n",
      "---------------\n",
      "[Polish]\n",
      "Polish\n",
      "True\n",
      "Adding  Polish 139\n",
      "5932\n",
      "---------------\n",
      "[Chinese]\n",
      "Chinese\n",
      "True\n",
      "Adding  Chinese 268\n",
      "6200\n",
      "---------------\n",
      "[German]\n",
      "German\n",
      "True\n",
      "Adding  German 724\n",
      "6924\n",
      "---------------\n",
      "[Russian]\n",
      "skip\n",
      "------------------\n",
      "[Portuguese]\n",
      "Portuguese\n",
      "True\n",
      "Adding  Portuguese 74\n",
      "6998\n",
      "---------------\n",
      "[English]\n",
      "skip\n",
      "------------------\n",
      "[Other]\n",
      "skip\n",
      "------------------\n"
     ]
    },
    {
     "data": {
      "image/png": "[encoded data removed]",
      "text/plain": [
       "<Figure size 432x288 with 1 Axes>"
      ]
     },
     "metadata": {
      "needs_background": "light"
     },
     "output_type": "display_data"
    },
    {
     "name": "stdout",
     "output_type": "stream",
     "text": [
      "Russian 9408\n",
      "English 3668\n",
      "Other 6998\n"
     ]
    }
   ],
   "source": [
    "category_names_dict['Other'] = []\n",
    "to_skip = ['English','Russian','Other']\n",
    "for k,v in category_names_dict.items():\n",
    "    print('['+k,']',sep='')\n",
    "    k = k.strip()\n",
    "    if k not in to_skip:\n",
    "        print(k)\n",
    "        print(k is not 'English' and k is not 'Russian')\n",
    "        print('Adding ',k,len(v))\n",
    "        category_names_dict['Other'].extend(v)\n",
    "        print(len(category_names_dict['Other']))\n",
    "        print('---------------')\n",
    "    else:\n",
    "        print('skip')\n",
    "        print('------------------')\n",
    "        \n",
    "category_names_dict = {i:category_names_dict[i] for i in category_names_dict if i in to_skip}\n",
    "\n",
    "labels = list(category_names_dict.keys())\n",
    "values = [len(names) for names in category_names_dict.values()]\n",
    "\n",
    "plt.xticks(rotation=90)\n",
    "centers = range(len(values))\n",
    "plt.bar(centers, values, align='center', tick_label=labels)\n",
    "plt.show()\n",
    "\n",
    "for i,ll in enumerate(labels):\n",
    "    print(ll,values[i])\n",
    "    \n",
    "all_categories = list(category_names_dict.keys())\n",
    "n_categories = len(all_categories)"
   ]
  },
  {
   "cell_type": "code",
   "execution_count": 11,
   "metadata": {},
   "outputs": [
    {
     "name": "stdout",
     "output_type": "stream",
     "text": [
      "['Russian', 'English', 'Other']\n",
      "3\n"
     ]
    }
   ],
   "source": [
    "print(all_categories)\n",
    "print(n_categories)"
   ]
  },
  {
   "cell_type": "code",
   "execution_count": 12,
   "metadata": {},
   "outputs": [
    {
     "name": "stdout",
     "output_type": "stream",
     "text": [
      "J= (1, 58)\n",
      "Jones= (5, 1, 58)\n",
      "\n",
      " pad_char= # [[0. 0. 0. 0. 0. 0. 0. 0. 0. 0. 0. 0. 0. 0. 0. 0. 0. 0. 0. 0. 0. 0. 0. 0.\n",
      "  0. 0. 0. 0. 0. 0. 0. 0. 0. 0. 0. 0. 0. 0. 0. 0. 0. 0. 0. 0. 0. 0. 0. 0.\n",
      "  0. 0. 0. 0. 0. 0. 0. 0. 0. 1.]]\n"
     ]
    }
   ],
   "source": [
    "# Find char index from all_chars, e.g. \"a\" = 0\n",
    "def charToIndex(char):\n",
    "    return all_chars.find(char)\n",
    "\n",
    "# Just for demonstration, turn a char into a <1 x n_chars> Tensor\n",
    "def charToTensor_one_hot(char):\n",
    "    tensor = np.zeros((1, n_chars))\n",
    "    tensor[0][charToIndex(char)] = 1\n",
    "    return tensor\n",
    "\n",
    "def charToTensor(char):\n",
    "    tensor = np.zeros(1,dtype=np.long)\n",
    "    tensor[0] = charToIndex(char)\n",
    "    return tensor\n",
    "\n",
    "# Turn a line into a <line_length x 1 x n_chars>,\n",
    "# or an array of one-hot char vectors\n",
    "def seqToTensor_one_hot(seq):\n",
    "    tensor = np.zeros((len(seq),1, n_chars))\n",
    "    for idx, char in enumerate(seq):\n",
    "        tensor[idx][0][charToIndex(char)] = 1\n",
    "    return tensor\n",
    "\n",
    "def seqToTensor(seq):\n",
    "    tensor = np.zeros(len(seq), dtype=np.long)\n",
    "    for idx, char in enumerate(seq):\n",
    "        tensor[idx] = int(charToIndex(char))\n",
    "    return tensor\n",
    "\n",
    "\n",
    "print('J=',charToTensor_one_hot('J').shape)\n",
    "\n",
    "print('Jones=',seqToTensor_one_hot('Jones').shape)\n",
    "\n",
    "print('\\n pad_char=',pad_char,charToTensor_one_hot(pad_char))"
   ]
  },
  {
   "cell_type": "markdown",
   "metadata": {},
   "source": [
    "### Batch data generator"
   ]
  },
  {
   "cell_type": "code",
   "execution_count": 13,
   "metadata": {},
   "outputs": [],
   "source": [
    "def batch_data_generator(all_categories, category_names_dict, batch_size, n_chars, pad_char, shuffle):\n",
    "    \n",
    "    #flatten the dictionary to a list of tuples.\n",
    "    dict_tuples = []\n",
    "    for category,names in category_names_dict.items():\n",
    "        for nm in names:\n",
    "            dict_tuples.append((category,nm))\n",
    "    \n",
    "    num_samples = len(dict_tuples)\n",
    "    num_batches = num_samples // batch_size\n",
    "    \n",
    "    print('batch_data_generator: num_samples =',num_samples,'num_batches = ',num_batches)\n",
    "    \n",
    "    epoch_num = 0\n",
    "    n_cat = len(category_names_dict)\n",
    "    \n",
    "    while(True):\n",
    "        \n",
    "        if shuffle:\n",
    "            random.shuffle(dict_tuples)\n",
    "            random.shuffle(dict_tuples)\n",
    "        indices = np.arange(num_samples)\n",
    "        \n",
    "        for batch_id in range(num_batches): #for each batch of names\n",
    "            batch_indices = indices[batch_id * batch_size : (batch_id + 1) * batch_size]\n",
    "\n",
    "            max_seqlen = 0 #max length of names in a batch.\n",
    "            batch_names = []\n",
    "            batch_labels = []\n",
    "            batch_categories = []    \n",
    "            name_tensors = []\n",
    "            \n",
    "            for b_ind in batch_indices:\n",
    "                a_name = dict_tuples[b_ind][1]            #'Alex'\n",
    "                category = dict_tuples[b_ind][0]          #'English'\n",
    "                label = all_categories.index(category)    #17\n",
    "                name_tensor = seqToTensor_one_hot(a_name)\n",
    "                max_seqlen = name_tensor.shape[0] if name_tensor.shape[0] >= max_seqlen else max_seqlen\n",
    "                batch_names.append(a_name)\n",
    "                batch_labels.append(label)\n",
    "                batch_categories.append(category)\n",
    "                name_tensors.append(np.squeeze(name_tensor))\n",
    "\n",
    "            #for nt in name_tensors:    \n",
    "            #    print('name_tensor=',nt.shape)\n",
    "                \n",
    "            #convert the batch list of tuples to tensors.\n",
    "            #Put all the selected names into a single tensor for input to RNN          \n",
    "            pad_char_tensor = charToTensor_one_hot(pad_char) #tensor corresponding to pad_char            \n",
    "            #create a tensor of size [batch_size x max_seqlen x n_char] filled with pad_char\n",
    "            batch_names_tensor = np.broadcast_to(\n",
    "                pad_char_tensor,(batch_size, max_seqlen, pad_char_tensor.shape[1])\n",
    "                ).copy()\n",
    "            \n",
    "            #print('batch_names_tensor',batch_names_tensor.shape)\n",
    "            \n",
    "            for i,name_tensor in enumerate(name_tensors):\n",
    "                num_chars = name_tensor.shape[0]\n",
    "                #print(num_chars,'assigning',name_tensor.shape,'to',batch_names_tensor[i,0:num_chars,:].shape)\n",
    "                batch_names_tensor[i,-num_chars:,:] = name_tensor #Left padding is done with pad_char\n",
    "            \n",
    "            batch_names_tensor = np.array(np.squeeze(batch_names_tensor))\n",
    "            \n",
    "            batch_labels_one_hot = np.array(to_categorical(batch_labels, num_classes=n_cat))\n",
    "            \n",
    "            yield(batch_names_tensor, batch_labels_one_hot)\n",
    "            \n",
    "        #done looping through all batches.\n",
    "        #go to the top and permute the file indices.\n",
    "        epoch_num += 1"
   ]
  },
  {
   "cell_type": "code",
   "execution_count": 14,
   "metadata": {},
   "outputs": [
    {
     "name": "stdout",
     "output_type": "stream",
     "text": [
      "Number of name categories, this is the no. of output categories =  3\n"
     ]
    }
   ],
   "source": [
    "print('Number of name categories, this is the no. of output categories = ',n_categories)"
   ]
  },
  {
   "cell_type": "markdown",
   "metadata": {},
   "source": [
    "### Generate 1 batch of data to test Keras model building"
   ]
  },
  {
   "cell_type": "code",
   "execution_count": 15,
   "metadata": {},
   "outputs": [
    {
     "name": "stdout",
     "output_type": "stream",
     "text": [
      "batch_data_generator: num_samples = 20074 num_batches =  4014\n",
      "batch_names_tensor (5, 10, 58)\n",
      "batch_labels_tensor_one_hot (5, 3)\n",
      "\n",
      "batch_labels_tensor_one_hot =\n",
      " [[1. 0. 0.]\n",
      " [0. 0. 1.]\n",
      " [0. 1. 0.]\n",
      " [0. 0. 1.]\n",
      " [0. 1. 0.]]\n"
     ]
    }
   ],
   "source": [
    "n_hidden = 4\n",
    "batch_size = 5\n",
    "shuffle = True\n",
    "\n",
    "batch_generator = batch_data_generator(all_categories, category_names_dict, batch_size, n_chars, pad_char, shuffle)\n",
    "batch_names_tensor, batch_labels_tensor_one_hot = next(batch_generator)\n",
    "\n",
    "print(\"batch_names_tensor\",batch_names_tensor.shape)\n",
    "print(\"batch_labels_tensor_one_hot\",batch_labels_tensor_one_hot.shape)\n",
    "\n",
    "print(\"\\nbatch_labels_tensor_one_hot =\\n\",batch_labels_tensor_one_hot)"
   ]
  },
  {
   "cell_type": "markdown",
   "metadata": {},
   "source": [
    "## A way to use Keras to build a model for character level LSTM"
   ]
  },
  {
   "cell_type": "code",
   "execution_count": 16,
   "metadata": {},
   "outputs": [
    {
     "name": "stdout",
     "output_type": "stream",
     "text": [
      "--------------Model summary--------------\n",
      "_________________________________________________________________\n",
      "Layer (type)                 Output Shape              Param #   \n",
      "=================================================================\n",
      "input_1 (InputLayer)         (None, None, 58)          0         \n",
      "_________________________________________________________________\n",
      "lstm_1 (LSTM)                (None, 4)                 1008      \n",
      "_________________________________________________________________\n",
      "dense_1 (Dense)              (None, 3)                 15        \n",
      "=================================================================\n",
      "Total params: 1,023\n",
      "Trainable params: 1,023\n",
      "Non-trainable params: 0\n",
      "_________________________________________________________________\n",
      "y_pred = \n",
      " [[0.3196215  0.3282915  0.35208696]\n",
      " [0.3212379  0.32976478 0.3489973 ]\n",
      " [0.32440522 0.34431443 0.33128032]\n",
      " [0.35378945 0.349261   0.29694957]\n",
      " [0.30627587 0.33516407 0.35856003]]\n"
     ]
    }
   ],
   "source": [
    "def build_model_1(n_hidden, n_chars, n_categories):\n",
    "    inputs = Input(shape=(None, n_chars)) #n_chars = feature size\n",
    "    lstm = LSTM(n_hidden)(inputs)\n",
    "    dense = Dense(n_categories, activation='softmax')(lstm)\n",
    "    model = Model(inputs=inputs, outputs=dense)\n",
    "    model.compile(loss='categorical_crossentropy', optimizer='adam', metrics=['accuracy'])\n",
    "    \n",
    "    #initialize hidden states, not sure if the initialization works.\n",
    "    #layer[1] is LSTM\n",
    "    hidden_states = K.variable(value=np.zeros([1, n_hidden]))\n",
    "    cell_states = K.variable(value=np.zeros([1, n_hidden]))\n",
    "    model.layers[1].states[0] = hidden_states\n",
    "    model.layers[1].states[1] = cell_states \n",
    "    \n",
    "    # This initialization also compiles without errors. \n",
    "    #c_0 = tf.convert_to_tensor(np.zeros([1, n_hidden]).astype(np.float32))\n",
    "    #h_0 = tf.convert_to_tensor(np.zeros([1, n_hidden]).astype(np.float32))\n",
    "    #model.layers[1].states[0] = h_0\n",
    "    #model.layers[1].states[1] = c_0\n",
    "\n",
    "    print('--------------Model summary--------------')\n",
    "    model.summary()\n",
    "    return model\n",
    "\n",
    "model1 = build_model_1(n_hidden, n_chars, n_categories)\n",
    "X_input = tf.placeholder(tf.float32, shape=(None, None, n_chars))\n",
    "y_output = model1(X_input)\n",
    "\n",
    "X = batch_names_tensor\n",
    "y_true = batch_labels_tensor_one_hot\n",
    "\n",
    "y_pred = model1.predict(X)\n",
    "print('y_pred = \\n',y_pred)"
   ]
  },
  {
   "cell_type": "markdown",
   "metadata": {},
   "source": [
    "### Print predictions and accuracy comparing with true labels"
   ]
  },
  {
   "cell_type": "code",
   "execution_count": 17,
   "metadata": {},
   "outputs": [
    {
     "name": "stdout",
     "output_type": "stream",
     "text": [
      "y_pred      =  [2 2 1 0 2]\n",
      "true_labels =  [0 2 1 2 1]\n",
      "Accuracy =  [0. 1. 1. 0. 0.]\n"
     ]
    }
   ],
   "source": [
    "sess = K.get_session()\n",
    "top_n, top_i = tf.nn.top_k(y_pred, k=1)\n",
    "top_values, top_indices = sess.run(tf.nn.top_k(y_pred, k=1))\n",
    "print('y_pred      = ',np.squeeze(top_indices))\n",
    "\n",
    "batch_labels_tensor = np.argmax(batch_labels_tensor_one_hot,axis=1)\n",
    "print('true_labels = ',batch_labels_tensor)\n",
    "\n",
    "#Calculate accuracy of each prediction using Keras metrics\n",
    "metric = tf.keras.metrics.categorical_accuracy(y_true,y_pred)\n",
    "print('Accuracy = ',sess.run(metric))"
   ]
  },
  {
   "cell_type": "markdown",
   "metadata": {},
   "source": [
    "## Another way to use Keras to build a model for character level LSTM"
   ]
  },
  {
   "cell_type": "code",
   "execution_count": 18,
   "metadata": {},
   "outputs": [
    {
     "data": {
      "text/plain": [
       "\"\\nmodel2 = build_model_2(n_hidden, n_chars, n_categories)\\nmodel2.compile(loss='categorical_crossentropy', optimizer='adam', metrics=['accuracy'])\\n\\nX_input = tf.placeholder(tf.float32, shape=(None, None, n_chars))\\ny_output = model2(X_input)\\n\\nX = batch_names_tensor\\ny_true = batch_labels_tensor_one_hot\\n\\ny_pred = model2.predict(X)\\nprint('y_pred = \\n',y_pred)\\n\""
      ]
     },
     "execution_count": 18,
     "metadata": {},
     "output_type": "execute_result"
    }
   ],
   "source": [
    "def build_model_2(n_hidden, n_chars, n_categories):\n",
    "    model = Sequential()\n",
    "    lstm = LSTM(n_hidden, input_shape=(None,n_chars)) #n_chars = feature size.\n",
    "    model.add(lstm)\n",
    "    model.add(Dense(n_categories, activation='softmax'))\n",
    "    \n",
    "    #initialize hidden states, not sure if the initialization works.\n",
    "    #layer[0] is LSTM\n",
    "    hidden_states = K.variable(value=np.zeros([1, n_hidden]))\n",
    "    cell_states = K.variable(value=np.zeros([1, n_hidden]))\n",
    "    model.layers[0].states[0] = hidden_states\n",
    "    model.layers[0].states[1] = cell_states \n",
    "    \n",
    "    model.summary()\n",
    "    return model\n",
    "\n",
    "\n",
    "\n",
    "model2 = build_model_2(n_hidden, n_chars, n_categories)\n",
    "model2.compile(loss='categorical_crossentropy', optimizer='adam', metrics=['accuracy'])\n",
    "\n",
    "X_input = tf.placeholder(tf.float32, shape=(None, None, n_chars))\n",
    "y_output = model2(X_input)\n",
    "\n",
    "X = batch_names_tensor\n",
    "y_true = batch_labels_tensor_one_hot\n",
    "\n",
    "y_pred = model2.predict(X)\n",
    "print('y_pred = \\n',y_pred)\n"
   ]
  },
  {
   "cell_type": "markdown",
   "metadata": {},
   "source": [
    "### Print predictions and accuracy comparing with true labels"
   ]
  },
  {
   "cell_type": "code",
   "execution_count": null,
   "metadata": {},
   "outputs": [],
   "source": [
    "sess = K.get_session()\n",
    "top_n, top_i = tf.nn.top_k(y_pred, k=1)\n",
    "top_values, top_indices = sess.run(tf.nn.top_k(y_pred, k=1))\n",
    "print('y_pred      = ',np.squeeze(top_indices))\n",
    "\n",
    "batch_labels_tensor = np.argmax(batch_labels_tensor_one_hot,axis=1)\n",
    "print('true_labels = ',batch_labels_tensor)\n",
    "\n",
    "#Calculate accuracy of each prediction using Keras metrics\n",
    "metric = tf.keras.metrics.categorical_accuracy(y_true,y_pred)\n",
    "print('Accuracy = ',sess.run(metric))"
   ]
  },
  {
   "cell_type": "markdown",
   "metadata": {},
   "source": [
    "## Train model using SGD"
   ]
  },
  {
   "cell_type": "code",
   "execution_count": 19,
   "metadata": {},
   "outputs": [
    {
     "name": "stdout",
     "output_type": "stream",
     "text": [
      "batch_data_generator: num_samples = 20074 num_batches =  2007\n",
      "batch_names_tensor (10, 11, 58)\n",
      "batch_labels_tensor_one_hot (10, 3)\n",
      "\n",
      "batch_labels_tensor_one_hot =\n",
      " [[0. 1. 0.]\n",
      " [1. 0. 0.]\n",
      " [0. 0. 1.]\n",
      " [1. 0. 0.]\n",
      " [1. 0. 0.]\n",
      " [0. 0. 1.]\n",
      " [1. 0. 0.]\n",
      " [0. 0. 1.]\n",
      " [0. 1. 0.]\n",
      " [1. 0. 0.]]\n",
      "_________________________________________________________________\n",
      "Layer (type)                 Output Shape              Param #   \n",
      "=================================================================\n",
      "lstm_2 (LSTM)                (None, 128)               95744     \n",
      "_________________________________________________________________\n",
      "dense_2 (Dense)              (None, 3)                 387       \n",
      "=================================================================\n",
      "Total params: 96,131\n",
      "Trainable params: 96,131\n",
      "Non-trainable params: 0\n",
      "_________________________________________________________________\n",
      "Epoch 1/20\n",
      "2007/2007 [==============================] - 20s 10ms/step - loss: 1.0940 - acc: 0.3718 0s - loss: 1.0940 - acc: 0.3\n",
      "Epoch 2/20\n",
      "2007/2007 [==============================] - 19s 10ms/step - loss: 1.0760 - acc: 0.4694\n",
      "Epoch 3/20\n",
      "2007/2007 [==============================] - 20s 10ms/step - loss: 1.0631 - acc: 0.4687\n",
      "Epoch 4/20\n",
      "2007/2007 [==============================] - 20s 10ms/step - loss: 1.0534 - acc: 0.4689\n",
      "Epoch 5/20\n",
      "2007/2007 [==============================] - 20s 10ms/step - loss: 1.0463 - acc: 0.4686\n",
      "Epoch 6/20\n",
      "2007/2007 [==============================] - 21s 10ms/step - loss: 1.0408 - acc: 0.4686\n",
      "Epoch 7/20\n",
      "2007/2007 [==============================] - 20s 10ms/step - loss: 1.0365 - acc: 0.4687\n",
      "Epoch 8/20\n",
      "2007/2007 [==============================] - 21s 10ms/step - loss: 1.0331 - acc: 0.4685\n",
      "Epoch 9/20\n",
      "2007/2007 [==============================] - 21s 10ms/step - loss: 1.0301 - acc: 0.4688\n",
      "Epoch 10/20\n",
      "2007/2007 [==============================] - 20s 10ms/step - loss: 1.0278 - acc: 0.4688\n",
      "Epoch 11/20\n",
      "2007/2007 [==============================] - 20s 10ms/step - loss: 1.0258 - acc: 0.4685\n",
      "Epoch 12/20\n",
      "2007/2007 [==============================] - 21s 10ms/step - loss: 1.0237 - acc: 0.4688\n",
      "Epoch 13/20\n",
      "2007/2007 [==============================] - 20s 10ms/step - loss: 1.0221 - acc: 0.4688\n",
      "Epoch 14/20\n",
      "2007/2007 [==============================] - 21s 10ms/step - loss: 1.0205 - acc: 0.4686\n",
      "Epoch 15/20\n",
      "2007/2007 [==============================] - 21s 10ms/step - loss: 1.0188 - acc: 0.4687\n",
      "Epoch 16/20\n",
      "2007/2007 [==============================] - 21s 10ms/step - loss: 1.0175 - acc: 0.4685\n",
      "Epoch 17/20\n",
      "2007/2007 [==============================] - 21s 10ms/step - loss: 1.0159 - acc: 0.4687\n",
      "Epoch 18/20\n",
      "2007/2007 [==============================] - 21s 10ms/step - loss: 1.0146 - acc: 0.4688\n",
      "Epoch 19/20\n",
      "2007/2007 [==============================] - 21s 10ms/step - loss: 1.0131 - acc: 0.4688\n",
      "Epoch 20/20\n",
      "2007/2007 [==============================] - 21s 10ms/step - loss: 1.0117 - acc: 0.4687\n"
     ]
    },
    {
     "data": {
      "text/plain": [
       "<keras.callbacks.History at 0x7f6cd015ae48>"
      ]
     },
     "execution_count": 19,
     "metadata": {},
     "output_type": "execute_result"
    }
   ],
   "source": [
    "n_hidden = 128\n",
    "batch_size = 10\n",
    "shuffle = True\n",
    "\n",
    "batch_generator = batch_data_generator(all_categories, category_names_dict, batch_size, n_chars, pad_char, shuffle)\n",
    "batch_names_tensor, batch_labels_tensor_one_hot = next(batch_generator)\n",
    "\n",
    "print(\"batch_names_tensor\",batch_names_tensor.shape)\n",
    "print(\"batch_labels_tensor_one_hot\",batch_labels_tensor_one_hot.shape)\n",
    "\n",
    "print(\"\\nbatch_labels_tensor_one_hot =\\n\",batch_labels_tensor_one_hot)\n",
    "\n",
    "\n",
    "my_opt = SGD(lr = 0.0001)\n",
    "\n",
    "mmodel = build_model_2(n_hidden, n_chars, n_categories)    \n",
    "mmodel.compile(loss='categorical_crossentropy', optimizer=my_opt, metrics=['accuracy'])\n",
    "\n",
    "    \n",
    "mmodel.fit_generator(\n",
    "          generator=batch_generator,\n",
    "          steps_per_epoch= 20074 // batch_size,\n",
    "          epochs=20)"
   ]
  },
  {
   "cell_type": "markdown",
   "metadata": {},
   "source": [
    "## Predict on a batch of training data just to see the accuracy"
   ]
  },
  {
   "cell_type": "code",
   "execution_count": 20,
   "metadata": {},
   "outputs": [
    {
     "name": "stdout",
     "output_type": "stream",
     "text": [
      "y_pred = \n",
      " [[0.47419205 0.17760581 0.34820217]\n",
      " [0.47768733 0.1875687  0.33474395]\n",
      " [0.46545392 0.18263082 0.3519153 ]\n",
      " [0.46246004 0.18976393 0.34777606]\n",
      " [0.45360634 0.19432098 0.3520727 ]\n",
      " [0.44449282 0.18437581 0.3711314 ]\n",
      " [0.4448989  0.1782757  0.37682545]\n",
      " [0.46446285 0.18748379 0.3480533 ]\n",
      " [0.46217299 0.18325418 0.35457283]\n",
      " [0.45085272 0.18284613 0.36630115]]\n",
      "y_pred      =  [0 0 0 0 0 0 0 0 0 0]\n",
      "true_labels =  [2 0 1 1 2 2 2 2 2 2]\n",
      "Accuracy =  [0. 1. 0. 0. 0. 0. 0. 0. 0. 0.]\n"
     ]
    }
   ],
   "source": [
    "batch_names_tensor, batch_labels_tensor_one_hot = next(batch_generator)\n",
    "X = batch_names_tensor\n",
    "y_true = batch_labels_tensor_one_hot\n",
    "\n",
    "y_pred = mmodel.predict(X)\n",
    "print('y_pred = \\n',y_pred)\n",
    "\n",
    "sess = K.get_session()\n",
    "top_n, top_i = tf.nn.top_k(y_pred, k=1)\n",
    "top_values, top_indices = sess.run(tf.nn.top_k(y_pred, k=1))\n",
    "print('y_pred      = ',np.squeeze(top_indices))\n",
    "\n",
    "batch_labels_tensor = np.argmax(batch_labels_tensor_one_hot,axis=1)\n",
    "print('true_labels = ',batch_labels_tensor)\n",
    "\n",
    "#Calculate accuracy of each prediction using Keras metrics\n",
    "metric = tf.keras.metrics.categorical_accuracy(y_true,y_pred)\n",
    "print('Accuracy = ',sess.run(metric))"
   ]
  },
  {
   "cell_type": "markdown",
   "metadata": {},
   "source": [
    "## Train model using Nadam"
   ]
  },
  {
   "cell_type": "code",
   "execution_count": 21,
   "metadata": {},
   "outputs": [
    {
     "name": "stdout",
     "output_type": "stream",
     "text": [
      "_________________________________________________________________\n",
      "Layer (type)                 Output Shape              Param #   \n",
      "=================================================================\n",
      "lstm_3 (LSTM)                (None, 128)               95744     \n",
      "_________________________________________________________________\n",
      "dense_3 (Dense)              (None, 3)                 387       \n",
      "=================================================================\n",
      "Total params: 96,131\n",
      "Trainable params: 96,131\n",
      "Non-trainable params: 0\n",
      "_________________________________________________________________\n",
      "Epoch 1/20\n",
      "2007/2007 [==============================] - 21s 10ms/step - loss: 0.8018 - acc: 0.6484\n",
      "Epoch 2/20\n",
      "2007/2007 [==============================] - 21s 10ms/step - loss: 0.6131 - acc: 0.7387\n",
      "Epoch 3/20\n",
      "2007/2007 [==============================] - 21s 10ms/step - loss: 0.5453 - acc: 0.7742\n",
      "Epoch 4/20\n",
      "2007/2007 [==============================] - 21s 10ms/step - loss: 0.5141 - acc: 0.7872\n",
      "Epoch 5/20\n",
      "2007/2007 [==============================] - 21s 11ms/step - loss: 0.4953 - acc: 0.7951\n",
      "Epoch 6/20\n",
      "2007/2007 [==============================] - 21s 11ms/step - loss: 0.4805 - acc: 0.8027\n",
      "Epoch 7/20\n",
      "2007/2007 [==============================] - 21s 10ms/step - loss: 0.4715 - acc: 0.8071\n",
      "Epoch 8/20\n",
      "2007/2007 [==============================] - 21s 10ms/step - loss: 0.4620 - acc: 0.8109\n",
      "Epoch 9/20\n",
      "2007/2007 [==============================] - 21s 11ms/step - loss: 0.4542 - acc: 0.8133\n",
      "Epoch 10/20\n",
      "2007/2007 [==============================] - 21s 10ms/step - loss: 0.4493 - acc: 0.8156\n",
      "Epoch 11/20\n",
      "2007/2007 [==============================] - 21s 11ms/step - loss: 0.4441 - acc: 0.8187\n",
      "Epoch 12/20\n",
      "2007/2007 [==============================] - 21s 11ms/step - loss: 0.4392 - acc: 0.8209\n",
      "Epoch 13/20\n",
      "2007/2007 [==============================] - 22s 11ms/step - loss: 0.4338 - acc: 0.8233\n",
      "Epoch 14/20\n",
      "2007/2007 [==============================] - 22s 11ms/step - loss: 0.4316 - acc: 0.8238\n",
      "Epoch 15/20\n",
      "2007/2007 [==============================] - 24s 12ms/step - loss: 0.4265 - acc: 0.8275\n",
      "Epoch 16/20\n",
      "2007/2007 [==============================] - 22s 11ms/step - loss: 0.4230 - acc: 0.8289\n",
      "Epoch 17/20\n",
      "2007/2007 [==============================] - 22s 11ms/step - loss: 0.4188 - acc: 0.8285\n",
      "Epoch 18/20\n",
      "2007/2007 [==============================] - 22s 11ms/step - loss: 0.4165 - acc: 0.8316\n",
      "Epoch 19/20\n",
      "2007/2007 [==============================] - 22s 11ms/step - loss: 0.4129 - acc: 0.8314\n",
      "Epoch 20/20\n",
      "2007/2007 [==============================] - 22s 11ms/step - loss: 0.4080 - acc: 0.8337\n"
     ]
    },
    {
     "data": {
      "text/plain": [
       "<keras.callbacks.History at 0x7f6cc821ea20>"
      ]
     },
     "execution_count": 21,
     "metadata": {},
     "output_type": "execute_result"
    }
   ],
   "source": [
    "my_opt = Nadam(lr=0.0001,\n",
    "              beta_1=0.9,\n",
    "              beta_2=0.999,\n",
    "              epsilon=1e-8,\n",
    "              schedule_decay=0.004)\n",
    "\n",
    "mmodel = build_model_2(n_hidden, n_chars, n_categories)    \n",
    "mmodel.compile(loss='categorical_crossentropy', optimizer=my_opt, metrics=['accuracy'])\n",
    "\n",
    "    \n",
    "mmodel.fit_generator(\n",
    "          generator=batch_generator,\n",
    "          steps_per_epoch= 20074 // batch_size,\n",
    "          epochs=20)"
   ]
  },
  {
   "cell_type": "markdown",
   "metadata": {},
   "source": [
    "## Predict on a batch of training data just to see the accuracy"
   ]
  },
  {
   "cell_type": "code",
   "execution_count": 23,
   "metadata": {},
   "outputs": [
    {
     "name": "stdout",
     "output_type": "stream",
     "text": [
      "y_pred = \n",
      " [[5.34338713e-01 1.45338097e-04 4.65515912e-01]\n",
      " [6.53709888e-01 1.18592076e-01 2.27698028e-01]\n",
      " [9.99956131e-01 4.31557010e-06 3.95785100e-05]\n",
      " [8.01142305e-02 5.97447157e-01 3.22438627e-01]\n",
      " [3.10353450e-02 2.87276834e-01 6.81687832e-01]\n",
      " [9.99530435e-01 3.51038325e-04 1.18538788e-04]\n",
      " [1.15735158e-01 3.28714401e-02 8.51393402e-01]\n",
      " [9.99712646e-01 8.49747448e-06 2.78907421e-04]\n",
      " [9.97492909e-01 2.08451020e-04 2.29862332e-03]\n",
      " [9.99835610e-01 5.13850682e-05 1.12933209e-04]]\n",
      "y_pred      =  [0 0 0 1 2 0 2 0 0 0]\n",
      "true_labels =  [0 0 0 1 1 0 2 0 0 0]\n",
      "Accuracy =  [1. 1. 1. 1. 0. 1. 1. 1. 1. 1.]\n"
     ]
    }
   ],
   "source": [
    "batch_names_tensor, batch_labels_tensor_one_hot = next(batch_generator)\n",
    "X = batch_names_tensor\n",
    "y_true = batch_labels_tensor_one_hot\n",
    "\n",
    "y_pred = mmodel.predict(X)\n",
    "print('y_pred = \\n',y_pred)\n",
    "\n",
    "sess = K.get_session()\n",
    "top_n, top_i = tf.nn.top_k(y_pred, k=1)\n",
    "top_values, top_indices = sess.run(tf.nn.top_k(y_pred, k=1))\n",
    "print('y_pred      = ',np.squeeze(top_indices))\n",
    "\n",
    "batch_labels_tensor = np.argmax(batch_labels_tensor_one_hot,axis=1)\n",
    "print('true_labels = ',batch_labels_tensor)\n",
    "\n",
    "#Calculate accuracy of each prediction using Keras metrics\n",
    "metric = tf.keras.metrics.categorical_accuracy(y_true,y_pred)\n",
    "print('Accuracy = ',sess.run(metric))"
   ]
  }
 ],
 "metadata": {
  "kernelspec": {
   "display_name": "Python 3",
   "language": "python",
   "name": "python3"
  },
  "language_info": {
   "codemirror_mode": {
    "name": "ipython",
    "version": 3
   },
   "file_extension": ".py",
   "mimetype": "text/x-python",
   "name": "python",
   "nbconvert_exporter": "python",
   "pygments_lexer": "ipython3",
   "version": "3.6.8"
  }
 },
 "nbformat": 4,
 "nbformat_minor": 2
}
